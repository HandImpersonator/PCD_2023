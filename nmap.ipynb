{
 "cells": [
  {
   "cell_type": "code",
   "execution_count": 2,
   "id": "36431315-14d5-4ade-8c8b-30b4673b4f41",
   "metadata": {},
   "outputs": [],
   "source": [
    "import nmap3"
   ]
  },
  {
   "cell_type": "code",
   "execution_count": null,
   "id": "7b6ec729-fb1f-4246-a0ba-7bd9dc4b9822",
   "metadata": {},
   "outputs": [],
   "source": []
  }
 ],
 "metadata": {
  "kernelspec": {
   "display_name": "Python 3 (ipykernel)",
   "language": "python",
   "name": "python3"
  },
  "language_info": {
   "codemirror_mode": {
    "name": "ipython",
    "version": 3
   },
   "file_extension": ".py",
   "mimetype": "text/x-python",
   "name": "python",
   "nbconvert_exporter": "python",
   "pygments_lexer": "ipython3",
   "version": "3.10.11"
  }
 },
 "nbformat": 4,
 "nbformat_minor": 5
}
