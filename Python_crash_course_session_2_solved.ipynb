{
 "cells": [
  {
   "cell_type": "markdown",
   "id": "62cb9dea-1f9a-4914-a191-c4e09a341829",
   "metadata": {},
   "source": [
    "<!-- PROFILE LINK -->\n",
    "<h1 style = \"text-align:center; font-size: 30px\">PROGRAMACIÓN CONCURRENTE Y DISTRIBUIDA</h1>\n",
    "<a href =\"https://github.com/sukuzhanay\">\n",
    "<img src=\"https://avatars.githubusercontent.com/u/17354471?v=4\" style=\"float:left;vertical-align:centre\" width=\"110\" height=\"110\" title = \"Christian Vlaldimir Sucuzhanay Arevalo 21535220\">\n",
    "<a href =\"https://github.com/sukuzhanay?tab=repositories\">\n",
    "<img src=\"https://media-exp1.licdn.com/dms/image/C4D0BAQEu_Aa76fcmPw/company-logo_200_200/0/1630998679429?e=2159024400&v=beta&t=2feC9GG7RWCWizTqsK5HzDWB1TL2DOQuAVwnMf6FFvk\" title = \"M41\" alt=\"UE\" width=\"110\" height=\"110\" style=\"float:right;vertical-align:centre\">"
   ]
  },
  {
   "cell_type": "markdown",
   "id": "b5aae5fa",
   "metadata": {},
   "source": [
    "# Python crash course\n",
    "## *Session 2*"
   ]
  },
  {
   "cell_type": "markdown",
   "id": "08131300",
   "metadata": {},
   "source": [
    "En sesión anterior vimos que tenemos disponibles una serie de tipos básicos:\n",
    "* Cadenas de texto.\n",
    "* Booleanos.\n",
    "* Numéricos: entero, decimal, complejo.\n",
    "* Colecciones: listas, tuplas, conjuntos, diccionarios.\n",
    "Y como asignar valores a objetos (variables) para crearlos con el operador `=`.\n",
    "\n",
    "Adicionalmente tenemos funciones que nos permiten cambiar de tipo a los objetos:"
   ]
  },
  {
   "cell_type": "code",
   "execution_count": 4,
   "id": "e4d3f9f9",
   "metadata": {},
   "outputs": [],
   "source": [
    "x11 = 24\n",
    "x12 = int(24)\n",
    "x21 = 33\n",
    "x22 = float(33)\n",
    "z = complex(x11)\n",
    "\n",
    "l1 = [1,2,3]\n",
    "t1 = (4,5,6)\n",
    "l2 = tuple(l1)\n",
    "t2 = list(t1)\n",
    "\n",
    "c1 = set(l1)\n",
    "\n",
    "r1 = list()\n",
    "r2 = tuple()\n",
    "r3 = set()"
   ]
  },
  {
   "cell_type": "code",
   "execution_count": 3,
   "id": "388dfba6",
   "metadata": {},
   "outputs": [
    {
     "data": {
      "text/plain": [
       "float"
      ]
     },
     "execution_count": 3,
     "metadata": {},
     "output_type": "execute_result"
    }
   ],
   "source": [
    "type(x22)"
   ]
  },
  {
   "cell_type": "code",
   "execution_count": 5,
   "id": "6147afb8-efda-4e56-a18b-a60fa64c75b2",
   "metadata": {},
   "outputs": [
    {
     "data": {
      "text/plain": [
       "{1, 2, 3}"
      ]
     },
     "execution_count": 5,
     "metadata": {},
     "output_type": "execute_result"
    }
   ],
   "source": [
    "c1"
   ]
  },
  {
   "cell_type": "code",
   "execution_count": 6,
   "id": "61661ca6-0e28-4ac4-99b2-22ed7f897d38",
   "metadata": {},
   "outputs": [
    {
     "data": {
      "text/plain": [
       "set()"
      ]
     },
     "execution_count": 6,
     "metadata": {},
     "output_type": "execute_result"
    }
   ],
   "source": [
    "r3"
   ]
  },
  {
   "cell_type": "code",
   "execution_count": 11,
   "id": "0ac30058",
   "metadata": {},
   "outputs": [],
   "source": [
    "lista1 = [1,2,3]"
   ]
  },
  {
   "cell_type": "code",
   "execution_count": null,
   "id": "d5885448-c130-40ec-81e5-738e66f7bbf0",
   "metadata": {},
   "outputs": [],
   "source": []
  },
  {
   "cell_type": "code",
   "execution_count": 12,
   "id": "c95af80c",
   "metadata": {},
   "outputs": [],
   "source": [
    "lista2 = lista1"
   ]
  },
  {
   "cell_type": "code",
   "execution_count": 13,
   "id": "f563a2f2",
   "metadata": {},
   "outputs": [
    {
     "name": "stdout",
     "output_type": "stream",
     "text": [
      "[1, 2, 3]\n",
      "[1, 2, 3]\n"
     ]
    }
   ],
   "source": [
    "print(lista1)\n",
    "print(lista2)"
   ]
  },
  {
   "cell_type": "code",
   "execution_count": 15,
   "id": "f7740872",
   "metadata": {},
   "outputs": [],
   "source": [
    "lista2[1]= 99"
   ]
  },
  {
   "cell_type": "code",
   "execution_count": 16,
   "id": "e5cc913f",
   "metadata": {},
   "outputs": [
    {
     "name": "stdout",
     "output_type": "stream",
     "text": [
      "[1, 99, 3]\n",
      "[1, 99, 3]\n"
     ]
    }
   ],
   "source": [
    "print(lista1)\n",
    "print(lista2)"
   ]
  },
  {
   "cell_type": "code",
   "execution_count": 17,
   "id": "5dc75065",
   "metadata": {},
   "outputs": [],
   "source": [
    "lista1.append(88)"
   ]
  },
  {
   "cell_type": "code",
   "execution_count": 18,
   "id": "9fe1fc43",
   "metadata": {},
   "outputs": [
    {
     "name": "stdout",
     "output_type": "stream",
     "text": [
      "[1, 99, 3, 88]\n",
      "[1, 99, 3, 88]\n"
     ]
    }
   ],
   "source": [
    "print(lista1)\n",
    "print(lista2)"
   ]
  },
  {
   "cell_type": "code",
   "execution_count": 19,
   "id": "79a5c6b8",
   "metadata": {},
   "outputs": [],
   "source": [
    "lista3 = lista1.copy()"
   ]
  },
  {
   "cell_type": "code",
   "execution_count": 20,
   "id": "8d77c87a",
   "metadata": {},
   "outputs": [],
   "source": [
    "lista3.append(77)"
   ]
  },
  {
   "cell_type": "code",
   "execution_count": 21,
   "id": "dab59b3b",
   "metadata": {},
   "outputs": [
    {
     "name": "stdout",
     "output_type": "stream",
     "text": [
      "[1, 99, 3, 88]\n",
      "[1, 99, 3, 88]\n",
      "[1, 99, 3, 88, 77]\n"
     ]
    }
   ],
   "source": [
    "print(lista1)\n",
    "print(lista2)\n",
    "print(lista3)"
   ]
  },
  {
   "cell_type": "code",
   "execution_count": null,
   "id": "9db397ad",
   "metadata": {},
   "outputs": [],
   "source": [
    "lista1.append(66)"
   ]
  },
  {
   "cell_type": "code",
   "execution_count": null,
   "id": "4dd5f6aa",
   "metadata": {},
   "outputs": [],
   "source": [
    "print(lista1)\n",
    "print(lista2)\n",
    "print(lista3)"
   ]
  },
  {
   "cell_type": "markdown",
   "id": "bde8ae70",
   "metadata": {},
   "source": [
    "También existe una función para comprobar si un objeto es de un determinado tipo"
   ]
  },
  {
   "cell_type": "code",
   "execution_count": 22,
   "id": "fafdbd92",
   "metadata": {},
   "outputs": [],
   "source": [
    "v1 = 99"
   ]
  },
  {
   "cell_type": "code",
   "execution_count": 23,
   "id": "7208f5ef",
   "metadata": {},
   "outputs": [
    {
     "name": "stdout",
     "output_type": "stream",
     "text": [
      "True False\n"
     ]
    }
   ],
   "source": [
    "print(isinstance(v1, int), isinstance(v1, float)) "
   ]
  },
  {
   "cell_type": "markdown",
   "id": "fe9b6d77",
   "metadata": {},
   "source": [
    "### El tipo conjunto\n",
    "\n",
    "Un conjunto es una colección de elementos no ordenados, no modificables y no permite duplicados.\n",
    "\n",
    "Su definición se realiza mediante llaves `{ }`.\n",
    "También existe el tipo `frozenset` que es una versión no inmutable del conjunto.\n",
    "\n",
    "Al tratarse de conjuntos vamos a poder aplicar las operaciones de conjuntos.\n",
    "* Inclusión\n",
    "* Intersección\n",
    "* Unión\n"
   ]
  },
  {
   "cell_type": "code",
   "execution_count": 27,
   "id": "6ab964e4",
   "metadata": {},
   "outputs": [
    {
     "name": "stdout",
     "output_type": "stream",
     "text": [
      "{(1+5j), 1, 'casa', 90, 'perro'}\n",
      "{1, 90.0, 3.2, 25}\n"
     ]
    }
   ],
   "source": [
    "A = {'casa', 'perro', 1, 1+5j, 90, 90.0}; print(A)\n",
    "B = {1, 3.2, 25, 90.0}; print(B)"
   ]
  },
  {
   "cell_type": "code",
   "execution_count": 25,
   "id": "a7b1b656",
   "metadata": {},
   "outputs": [
    {
     "name": "stdout",
     "output_type": "stream",
     "text": [
      "False\n",
      "True\n"
     ]
    }
   ],
   "source": [
    "# INCLUSION DE ELEMENTOS\n",
    "print('gato' in A)\n",
    "print('perro' in A)"
   ]
  },
  {
   "cell_type": "code",
   "execution_count": null,
   "id": "995f9ee2",
   "metadata": {},
   "outputs": [],
   "source": [
    "{1, 90} in A"
   ]
  },
  {
   "cell_type": "code",
   "execution_count": 26,
   "id": "2b702814",
   "metadata": {},
   "outputs": [
    {
     "name": "stdout",
     "output_type": "stream",
     "text": [
      "{1, 3.2, 'perro', (1+5j), 'casa', 25, 90}\n",
      "{1, 3.2, 'perro', (1+5j), 'casa', 25, 90.0}\n"
     ]
    }
   ],
   "source": [
    "# UNION DE DOS O MAS CONJUNTOS\n",
    "print(A | B)\n",
    "print(B | A)"
   ]
  },
  {
   "cell_type": "code",
   "execution_count": null,
   "id": "4653cb68",
   "metadata": {},
   "outputs": [],
   "source": [
    "A | (25,6,'gato')"
   ]
  },
  {
   "cell_type": "code",
   "execution_count": null,
   "id": "3974d32f",
   "metadata": {},
   "outputs": [],
   "source": [
    "A.union(B)"
   ]
  },
  {
   "cell_type": "code",
   "execution_count": null,
   "id": "25112962",
   "metadata": {},
   "outputs": [],
   "source": [
    "A.union((25,6,'gato'))"
   ]
  },
  {
   "cell_type": "code",
   "execution_count": null,
   "id": "a7dd17b5",
   "metadata": {},
   "outputs": [],
   "source": [
    "# INTERSECCIÓN DE DOS O MÁS CONJUNTOS\n",
    "A & B"
   ]
  },
  {
   "cell_type": "code",
   "execution_count": null,
   "id": "a5a44ed0",
   "metadata": {},
   "outputs": [],
   "source": [
    "B.intersection(A)"
   ]
  },
  {
   "cell_type": "code",
   "execution_count": null,
   "id": "0e4af082",
   "metadata": {},
   "outputs": [],
   "source": [
    "# DIFERENCIA DE CONJUNTOS"
   ]
  },
  {
   "cell_type": "code",
   "execution_count": null,
   "id": "d6396bba",
   "metadata": {},
   "outputs": [],
   "source": [
    "A - B"
   ]
  },
  {
   "cell_type": "code",
   "execution_count": null,
   "id": "4b0ee20d",
   "metadata": {},
   "outputs": [],
   "source": [
    "A.difference(B)"
   ]
  },
  {
   "cell_type": "code",
   "execution_count": null,
   "id": "ae1aeaf6",
   "metadata": {},
   "outputs": [],
   "source": [
    "# Diferencia simétrica\n",
    "A ^ B"
   ]
  },
  {
   "cell_type": "code",
   "execution_count": null,
   "id": "442b4f27",
   "metadata": {},
   "outputs": [],
   "source": [
    "A.union(B).difference(A.intersection(B))"
   ]
  },
  {
   "cell_type": "code",
   "execution_count": null,
   "id": "5cc8d7d8",
   "metadata": {},
   "outputs": [],
   "source": [
    "# Comprobación de si existen elementos en común.\n",
    "A.isdisjoint(B)"
   ]
  },
  {
   "cell_type": "code",
   "execution_count": null,
   "id": "e11ae7ad",
   "metadata": {},
   "outputs": [],
   "source": [
    "{1, 90}.issubset(A) #inclusión de subconjuntos"
   ]
  },
  {
   "cell_type": "code",
   "execution_count": null,
   "id": "14b094ef",
   "metadata": {},
   "outputs": [],
   "source": [
    "{1, 90} < A"
   ]
  },
  {
   "cell_type": "code",
   "execution_count": null,
   "id": "e3a763ec",
   "metadata": {},
   "outputs": [],
   "source": [
    "{1, 90} <= A"
   ]
  },
  {
   "cell_type": "markdown",
   "id": "69bcfaf1",
   "metadata": {},
   "source": [
    "Cada tipo tiene asociados una serie de métodos (funciones) que nos permiten trabajar con ellos, los podíamos ver al pulsar tabulador después del punto que sigue al objeto que queremos tratar."
   ]
  },
  {
   "cell_type": "markdown",
   "id": "3ca059f4",
   "metadata": {},
   "source": [
    "#### Algunos métodos de cadenas de texto"
   ]
  },
  {
   "cell_type": "code",
   "execution_count": 31,
   "id": "e5d73780",
   "metadata": {},
   "outputs": [],
   "source": [
    "str1 = 'Hablen niños ratas de las UEM'"
   ]
  },
  {
   "cell_type": "code",
   "execution_count": 32,
   "id": "f413672d",
   "metadata": {},
   "outputs": [
    {
     "data": {
      "text/plain": [
       "['Hablen niños ratas de ', ' UEM']"
      ]
     },
     "execution_count": 32,
     "metadata": {},
     "output_type": "execute_result"
    }
   ],
   "source": [
    "str1.split('las') # Genera una lista con cada fragmento de la cadena en una posición según el separador indicado."
   ]
  },
  {
   "cell_type": "code",
   "execution_count": null,
   "id": "f28f665f",
   "metadata": {},
   "outputs": [],
   "source": [
    "print(str1.lower()) # en minúsculas\n",
    "print(str1.upper()) # en mayúsculas"
   ]
  },
  {
   "cell_type": "code",
   "execution_count": null,
   "id": "fe811cb9",
   "metadata": {},
   "outputs": [],
   "source": [
    "str1.strip(' ') # elimina el caracter indicado."
   ]
  },
  {
   "cell_type": "markdown",
   "id": "d5c9fd5e",
   "metadata": {},
   "source": [
    "Existen algunas funciones básicas que son propias de Python base:"
   ]
  },
  {
   "cell_type": "code",
   "execution_count": null,
   "id": "69df2e7b",
   "metadata": {},
   "outputs": [],
   "source": [
    "print(str1) # parar imprimir cadenas de texto."
   ]
  },
  {
   "cell_type": "code",
   "execution_count": null,
   "id": "5c1f04ef",
   "metadata": {},
   "outputs": [],
   "source": [
    "len(str1) #longitud de un objeto, que tenga medida"
   ]
  },
  {
   "cell_type": "code",
   "execution_count": null,
   "id": "191cbdc6",
   "metadata": {},
   "outputs": [],
   "source": [
    "globals() #listar variables"
   ]
  },
  {
   "cell_type": "code",
   "execution_count": null,
   "id": "0372790f",
   "metadata": {},
   "outputs": [],
   "source": [
    "dir() #lista de variables"
   ]
  },
  {
   "cell_type": "markdown",
   "id": "f94c366d",
   "metadata": {},
   "source": [
    "Existen disferentes comandos _mágicos_ del notebook que nos permiten hacer otras cosas"
   ]
  },
  {
   "cell_type": "code",
   "execution_count": null,
   "id": "15c65af2",
   "metadata": {},
   "outputs": [],
   "source": [
    "# listar variables\n",
    "%who "
   ]
  },
  {
   "cell_type": "code",
   "execution_count": null,
   "id": "c5d7070f",
   "metadata": {},
   "outputs": [],
   "source": [
    "#Listar variables tipo y valor\n",
    "%whos"
   ]
  },
  {
   "cell_type": "code",
   "execution_count": null,
   "id": "c0489500",
   "metadata": {},
   "outputs": [],
   "source": [
    "%timeit\n",
    "x=1"
   ]
  },
  {
   "cell_type": "code",
   "execution_count": null,
   "id": "d557d888",
   "metadata": {},
   "outputs": [],
   "source": [
    "# eliminar una o varias variables\n",
    "del x12"
   ]
  },
  {
   "cell_type": "code",
   "execution_count": null,
   "id": "8c93146e",
   "metadata": {},
   "outputs": [],
   "source": [
    "%who"
   ]
  },
  {
   "cell_type": "markdown",
   "id": "c73bdf8e",
   "metadata": {},
   "source": [
    "#### Algunos métodos de las listas"
   ]
  },
  {
   "cell_type": "code",
   "execution_count": null,
   "id": "02aa94e2",
   "metadata": {},
   "outputs": [],
   "source": [
    "lista = [1,2,3,4,5,6,7,8,9,10]"
   ]
  },
  {
   "cell_type": "code",
   "execution_count": null,
   "id": "4e5926d4",
   "metadata": {},
   "outputs": [],
   "source": [
    "lista.append(25) # Añade valor al final de la lista"
   ]
  },
  {
   "cell_type": "code",
   "execution_count": null,
   "id": "0213e2a1",
   "metadata": {},
   "outputs": [],
   "source": [
    "lista.pop() # Devuelve el último valor de la lista y lo elimina."
   ]
  },
  {
   "cell_type": "code",
   "execution_count": null,
   "id": "c2830062",
   "metadata": {},
   "outputs": [],
   "source": [
    "otra_lista = lista.copy() # Permite copiar los valores de una lista a otra."
   ]
  },
  {
   "cell_type": "code",
   "execution_count": null,
   "id": "6529879d",
   "metadata": {},
   "outputs": [],
   "source": [
    "lista.reverse() #invierte el orden"
   ]
  },
  {
   "cell_type": "code",
   "execution_count": null,
   "id": "e236dc5c",
   "metadata": {},
   "outputs": [],
   "source": [
    "lista.sort() #orden la lista"
   ]
  },
  {
   "cell_type": "code",
   "execution_count": null,
   "id": "11f5c45b",
   "metadata": {},
   "outputs": [],
   "source": [
    "lista.clear() #elimina todos los elementos."
   ]
  },
  {
   "cell_type": "markdown",
   "id": "61fcd75d",
   "metadata": {},
   "source": [
    "# Ejercicios"
   ]
  },
  {
   "cell_type": "code",
   "execution_count": 1,
   "id": "b3ae26c1",
   "metadata": {},
   "outputs": [],
   "source": [
    "from random import seed, random, randint, gauss, choice, sample"
   ]
  },
  {
   "cell_type": "code",
   "execution_count": 2,
   "id": "72c1bba7",
   "metadata": {},
   "outputs": [
    {
     "name": "stdout",
     "output_type": "stream",
     "text": [
      "[0.5714025946899135, 0.4288890546751146, 0.5780913011344704, 0.20609823213950174, 0.81332125135732, 0.8235888725334455, 0.6534725339011758, 0.16022955651881965, 0.5206693596399246, 0.32777281162209315, 0.24999667668640035, 0.9528169091459117, 0.9965569925394552, 0.04455638245043303, 0.860161037286291, 0.603190610968185, 0.3816059859191179, 0.28361821790671515, 0.674964847134956, 0.45683115105830563, 0.6858614854745947, 0.6618463200523511, 0.1329781447122128, 0.7678378139439905, 0.9824132490111909, 0.9693881604049188, 0.613326820546709, 0.0442606328646209, 0.004055144158407464, 0.13397252704913387, 0.941002271395834, 0.3028605620290723, 0.3661456016604264, 0.8981962445391883, 0.31436380495645067, 0.5489821840124055, 0.43603095762412225, 0.06499417612685054, 0.5845462257019302, 0.8440678976619022, 0.1564189183874064, 0.2242989686860415, 0.41287020771484073, 0.03692486905862902, 0.4966034986165482, 0.8179828644296319, 0.6578909387591091, 0.5334837356527721, 0.8551257407736, 0.14968813497140154, 0.5672354768631239, 0.3741748177480889, 0.6013045471136395, 0.11291570189443623, 0.7755127010728279, 0.09660583318435267, 0.16636374579324753, 0.8074497520247557, 0.9476939242234907, 0.4332315025514858, 0.41408083174830124, 0.24548187614075512, 0.274703391965577, 0.6172527709741663, 0.17846041072072527, 0.11948250433077712, 0.45573485868103825, 0.1649378065796322, 0.648724831216227, 0.821055674361497, 0.7775113893753993, 0.48013339022434753, 0.34757125622081697, 0.4347105489944344, 0.005008574909348362, 0.7125732007896374, 0.33165722263549546, 0.31942323776053394, 0.07992503242021254, 0.44805592600101607, 0.5828489673005941, 0.390586941842884, 0.8695455453974028, 0.6733532167485129, 0.2414082418108049, 0.5253538488765902, 0.9105338176465975, 0.5201096943214129, 0.6021048687389493, 0.06277362381152096, 0.48938611652176434, 0.4614412627964344, 0.4011298800689024, 0.4204353581465221, 0.5849350493343958, 0.5386670484231432, 0.4898957587909363, 0.16579644053220766, 0.4413468174535875, 0.9686781985609425, 0.4151736932178327, 0.035317829787831156, 0.002830426682370324, 0.5354184513162129, 0.05057294182209637, 0.09274340534219172, 0.10875641262696911, 0.4540783303488197, 0.9926880657637538, 0.48505535080507134]\n"
     ]
    }
   ],
   "source": [
    "seed(10)\n",
    "lista = [random() for i in range(110)]\n",
    "print(lista)"
   ]
  },
  {
   "cell_type": "markdown",
   "id": "65b6aa1e",
   "metadata": {},
   "source": [
    "### Suma de los elementos de una lista"
   ]
  },
  {
   "cell_type": "code",
   "execution_count": 3,
   "id": "72562a98",
   "metadata": {},
   "outputs": [
    {
     "name": "stdout",
     "output_type": "stream",
     "text": [
      "51.49819082364045\n"
     ]
    }
   ],
   "source": [
    "suma = 0\n",
    "for numero in lista:\n",
    "    suma = suma + numero\n",
    "print(suma)"
   ]
  },
  {
   "cell_type": "markdown",
   "id": "859e60e1",
   "metadata": {},
   "source": [
    "### Recuento de los elementos de una lista"
   ]
  },
  {
   "cell_type": "code",
   "execution_count": 19,
   "id": "8fcfaaee",
   "metadata": {},
   "outputs": [
    {
     "name": "stdout",
     "output_type": "stream",
     "text": [
      "110\n"
     ]
    }
   ],
   "source": [
    "recuento = 0\n",
    "for numero in lista:\n",
    "    recuento = recuento + 1\n",
    "print(recuento)"
   ]
  },
  {
   "cell_type": "code",
   "execution_count": 6,
   "id": "ae768438",
   "metadata": {},
   "outputs": [],
   "source": [
    "def recuento(ls1):\n",
    "    \"\"\"Función que aceptada como entrada una lista de números y \n",
    "    realiza la suma de sus elementos.\"\"\"\n",
    "    x = 0\n",
    "    for i in ls1:\n",
    "        x = x + 1\n",
    "    return x"
   ]
  },
  {
   "cell_type": "code",
   "execution_count": 7,
   "id": "6291c6af",
   "metadata": {},
   "outputs": [
    {
     "name": "stdout",
     "output_type": "stream",
     "text": [
      "Help on function recuento in module __main__:\n",
      "\n",
      "recuento(ls1)\n",
      "    Función que aceptada como entrada una lista de números y \n",
      "    realiza la suma de sus elementos\n",
      "\n"
     ]
    }
   ],
   "source": [
    "help(recuento)"
   ]
  },
  {
   "cell_type": "code",
   "execution_count": 10,
   "id": "17ec775b",
   "metadata": {},
   "outputs": [],
   "source": [
    "n = recuento(lista)"
   ]
  },
  {
   "cell_type": "code",
   "execution_count": 11,
   "id": "670a00c8-d666-4ab8-9e66-b80ec0fdbbf9",
   "metadata": {},
   "outputs": [
    {
     "name": "stdout",
     "output_type": "stream",
     "text": [
      "110\n"
     ]
    }
   ],
   "source": [
    "print(n)"
   ]
  },
  {
   "cell_type": "markdown",
   "id": "05d92aff",
   "metadata": {},
   "source": [
    "### Programa una función que devuelva la varianza y desviación típica de los valores de una lista\n",
    "$$S^2=\\frac{1}{n}\\sum_{i=1}^n (x_i - \\bar{x})^2$$"
   ]
  },
  {
   "cell_type": "code",
   "execution_count": 20,
   "id": "2a7b2dd8",
   "metadata": {},
   "outputs": [],
   "source": [
    "def varianza(ls):\n",
    "    \"\"\"Función que calcula la varianza y desviación típica de los valores de \n",
    "    una lista de números.\"\"\"\n",
    "    suma = 0\n",
    "    recuento = 0\n",
    "    for x in ls:\n",
    "        suma = suma + x\n",
    "        recuento = recuento + 1\n",
    "    media = suma / recuento\n",
    "    \n",
    "    var = 0\n",
    "    for x in ls:\n",
    "        var = var + (x - media)**2\n",
    "    var = var / recuento\n",
    "    \n",
    "    sd = var ** (1 / 2)\n",
    "    \n",
    "    return [var, sd]"
   ]
  },
  {
   "cell_type": "code",
   "execution_count": 13,
   "id": "a3a55898",
   "metadata": {},
   "outputs": [
    {
     "data": {
      "text/plain": [
       "[0.07734847071724686, 0.27811593035503535]"
      ]
     },
     "execution_count": 13,
     "metadata": {},
     "output_type": "execute_result"
    }
   ],
   "source": [
    "varianza(lista)"
   ]
  },
  {
   "cell_type": "markdown",
   "id": "960aaf95",
   "metadata": {},
   "source": [
    "### Factorial de un número\n",
    "\n",
    "$$n!=1\\cdot 2\\cdot...\\cdot (n-1)\\cdot n = n\\cdot (n-1)!$$"
   ]
  },
  {
   "cell_type": "code",
   "execution_count": 41,
   "id": "56db99cc",
   "metadata": {},
   "outputs": [
    {
     "name": "stdout",
     "output_type": "stream",
     "text": [
      "3628800\n"
     ]
    }
   ],
   "source": [
    "def factorial1(n):\n",
    "    \"\"\"Función que calcula el factorial de un número.\"\"\"\n",
    "    producto = 1\n",
    "    for x in range(1, n + 1):\n",
    "        producto = producto * x\n",
    "    return producto\n",
    "\n",
    "print(factorial1(10))"
   ]
  },
  {
   "cell_type": "code",
   "execution_count": 42,
   "id": "051eb8a9",
   "metadata": {},
   "outputs": [
    {
     "name": "stdout",
     "output_type": "stream",
     "text": [
      "819 ns ± 49.4 ns per loop (mean ± std. dev. of 7 runs, 1,000,000 loops each)\n"
     ]
    }
   ],
   "source": [
    "%%timeit\n",
    "factorial1(10)"
   ]
  },
  {
   "cell_type": "code",
   "execution_count": 50,
   "id": "6cc35b43",
   "metadata": {},
   "outputs": [
    {
     "name": "stdout",
     "output_type": "stream",
     "text": [
      "3628800\n"
     ]
    }
   ],
   "source": [
    "def factorial2(n):\n",
    "    \"\"\"Función que calcula el factorial de un número.\"\"\"\n",
    "    if n in (0, 1):\n",
    "        return 1\n",
    "    else:\n",
    "        return n * factorial2(n - 1)\n",
    "\n",
    "print(factorial2(10))"
   ]
  },
  {
   "cell_type": "code",
   "execution_count": 44,
   "id": "be225cdd",
   "metadata": {},
   "outputs": [
    {
     "name": "stdout",
     "output_type": "stream",
     "text": [
      "1.62 µs ± 150 ns per loop (mean ± std. dev. of 7 runs, 1,000,000 loops each)\n"
     ]
    }
   ],
   "source": [
    "%%timeit\n",
    "factorial2(10)"
   ]
  },
  {
   "cell_type": "markdown",
   "id": "ff9b7c42",
   "metadata": {},
   "source": [
    "### Programa una función que compruebe si un número es par"
   ]
  },
  {
   "cell_type": "code",
   "execution_count": 59,
   "id": "1e627b55",
   "metadata": {},
   "outputs": [],
   "source": [
    "def es_par1(x):\n",
    "    \"\"\"Función que comprueba si un número es par.\"\"\"\n",
    "    return (x % 2) == 0"
   ]
  },
  {
   "cell_type": "code",
   "execution_count": 60,
   "id": "f976eed3",
   "metadata": {},
   "outputs": [],
   "source": [
    "def es_par2(x):\n",
    "    \"\"\"Función que comprueba si un número es par.\"\"\"\n",
    "    if (x % 2) == 0:\n",
    "        return True\n",
    "    else:\n",
    "        return False"
   ]
  },
  {
   "cell_type": "code",
   "execution_count": 66,
   "id": "2b506dd5",
   "metadata": {},
   "outputs": [
    {
     "data": {
      "text/plain": [
       "True"
      ]
     },
     "execution_count": 66,
     "metadata": {},
     "output_type": "execute_result"
    }
   ],
   "source": [
    "es_par1(14)"
   ]
  },
  {
   "cell_type": "code",
   "execution_count": 65,
   "id": "682845d3-d0f8-4bd3-b684-1b48ebcc25fc",
   "metadata": {},
   "outputs": [
    {
     "data": {
      "text/plain": [
       "True"
      ]
     },
     "execution_count": 65,
     "metadata": {},
     "output_type": "execute_result"
    }
   ],
   "source": [
    "es_par2(14)"
   ]
  },
  {
   "cell_type": "markdown",
   "id": "38381873",
   "metadata": {},
   "source": [
    "# Serie de Fibonacci\n",
    "\n",
    "La secuencia de Fibonacci se define como $X_n = X_{n-1} + X_{n-2}$ con $X_0 = 0$ y $X_1 = 1$.\n",
    "\n",
    "Definamos una función que nos calcule el valor de la serie hasta un valor n.\n",
    "0, 1, 1, 2, 3, 5, 8, 13, 21,..."
   ]
  },
  {
   "cell_type": "code",
   "execution_count": 67,
   "id": "cd3a1ed7",
   "metadata": {},
   "outputs": [
    {
     "name": "stdout",
     "output_type": "stream",
     "text": [
      "[1, 1]\n",
      "[1, 1, 2]\n",
      "[1, 1, 2, 3]\n",
      "[1, 1, 2, 3, 5]\n"
     ]
    }
   ],
   "source": [
    "x = [1, 1];\n",
    "print(x)\n",
    "i = 1\n",
    "x = x + [x[0] + x[1]]\n",
    "print(x)\n",
    "x = x + [x[1] + x[2]]\n",
    "print(x)\n",
    "x = x + [x[2] + x[3]]\n",
    "print(x)"
   ]
  },
  {
   "cell_type": "code",
   "execution_count": 68,
   "id": "2f56f8f3",
   "metadata": {},
   "outputs": [
    {
     "name": "stdout",
     "output_type": "stream",
     "text": [
      "[1, 1]\n",
      "[1, 1, 2]\n",
      "[1, 1, 2, 3]\n",
      "[1, 1, 2, 3, 5]\n",
      "[1, 1, 2, 3, 5, 8]\n"
     ]
    }
   ],
   "source": [
    "x = [1, 1];\n",
    "print(x)\n",
    "i = 1\n",
    "x = x + [x[i-1] + x[i]]\n",
    "print(x)\n",
    "i += 1\n",
    "x = x + [x[i-1] + x[i]]\n",
    "print(x)\n",
    "i += 1\n",
    "x = x + [x[i-1] + x[i]]\n",
    "print(x)\n",
    "i += 1\n",
    "x = x + [x[i-1] + x[i]]\n",
    "print(x)"
   ]
  },
  {
   "cell_type": "code",
   "execution_count": 71,
   "id": "5c0574d2",
   "metadata": {},
   "outputs": [
    {
     "name": "stdout",
     "output_type": "stream",
     "text": [
      "[1, 1, 2, 3, 5, 8]\n"
     ]
    }
   ],
   "source": [
    "x = [1, 1]\n",
    "n = 6\n",
    "for i in range(1, n - 1):\n",
    "    x = x + [x[i] + x[i-1]]\n",
    "print(x)"
   ]
  },
  {
   "cell_type": "code",
   "execution_count": 124,
   "id": "bf71975c",
   "metadata": {},
   "outputs": [],
   "source": [
    "def serie_fibonacci(n_elem):\n",
    "    salida = []\n",
    "    for i in range(n_elem):\n",
    "        salida.append(fibonacci1(i + 1))\n",
    "    return salida"
   ]
  },
  {
   "cell_type": "code",
   "execution_count": 123,
   "id": "acfa936d-b399-45a7-b655-914bf87941b1",
   "metadata": {},
   "outputs": [],
   "source": [
    "def fibonacci1(x):\n",
    "    if x > 1:\n",
    "        return (x - 1) + (x - 2)\n",
    "    else:\n",
    "        return x"
   ]
  },
  {
   "cell_type": "code",
   "execution_count": 126,
   "id": "1af85f3a-8cd3-4729-a799-ffeca63cc283",
   "metadata": {},
   "outputs": [
    {
     "data": {
      "text/plain": [
       "[1, 1, 3, 5, 7, 9]"
      ]
     },
     "execution_count": 126,
     "metadata": {},
     "output_type": "execute_result"
    }
   ],
   "source": [
    "serie_fibonacci(6)"
   ]
  },
  {
   "cell_type": "code",
   "execution_count": 127,
   "id": "21f14d82",
   "metadata": {},
   "outputs": [],
   "source": [
    "def serie_fibonacci2(n_elem = 0):\n",
    "    aux = [1, 1]\n",
    "    if n_elem < 1:\n",
    "        print(\"Se debe indicar como mínimo un elemento.\")\n",
    "    elif n_elem <= 2:\n",
    "        return aux[:n_elem]\n",
    "    else:\n",
    "        for i in range(2, n_elem):\n",
    "            aux.append(sum(aux[(i-2):i]))\n",
    "        return aux"
   ]
  },
  {
   "cell_type": "code",
   "execution_count": 128,
   "id": "ed6c7a96-51ec-4e5c-9433-545e2ef5bf72",
   "metadata": {},
   "outputs": [
    {
     "data": {
      "text/plain": [
       "[1, 1, 2, 3, 5, 8]"
      ]
     },
     "execution_count": 128,
     "metadata": {},
     "output_type": "execute_result"
    }
   ],
   "source": [
    "serie_fibonacci2(6)"
   ]
  },
  {
   "cell_type": "markdown",
   "id": "84af9562",
   "metadata": {},
   "source": [
    "No ha sido muy complicado, pero hay otra forma de realizar su definición:"
   ]
  },
  {
   "cell_type": "code",
   "execution_count": 129,
   "id": "9dc6dce7",
   "metadata": {},
   "outputs": [],
   "source": [
    "def fibonacci(n):\n",
    "    a, b = 0, 1\n",
    "    for i in range(n):\n",
    "        a, b = b, a + b\n",
    "    return a"
   ]
  },
  {
   "cell_type": "code",
   "execution_count": 130,
   "id": "2abecf08",
   "metadata": {},
   "outputs": [],
   "source": [
    "def fibonacci_rec(n):\n",
    "    if n == 0:\n",
    "        resultado = 0\n",
    "    elif n == 1:\n",
    "        resultado = 1\n",
    "    else:\n",
    "        resultado = fibonacci_rec(n - 1) + fibonacci_rec(n - 2)\n",
    "    return resultado"
   ]
  },
  {
   "cell_type": "markdown",
   "id": "70797d2b",
   "metadata": {},
   "source": [
    "Como podemos ver para definir la función estamos haciendo uso de ella misma, esto es la recursión.\n",
    "\n",
    "¿cuál de las dos crees que es más rápida?\n",
    "La no recursiva.\n",
    "\n",
    "<div class=\"alert alert-success\"><b>Consejo:</b> \n",
    "    \n",
    "Explora los operadores mágicos `%%time` y `%%timeit`, recuerda que debes ponerlo al principio de la celda.\n",
    "</div>\n",
    "\n",
    "Prueba a definir una función que calcule el factorial de un número natural de forma recursiva y no recursiva."
   ]
  },
  {
   "cell_type": "code",
   "execution_count": 131,
   "id": "975b0242",
   "metadata": {},
   "outputs": [
    {
     "name": "stdout",
     "output_type": "stream",
     "text": [
      "815 ns ± 50.2 ns per loop (mean ± std. dev. of 7 runs, 1,000,000 loops each)\n"
     ]
    }
   ],
   "source": [
    "%%timeit\n",
    "fibonacci(10)"
   ]
  },
  {
   "cell_type": "code",
   "execution_count": 134,
   "id": "dd599d47",
   "metadata": {},
   "outputs": [
    {
     "name": "stdout",
     "output_type": "stream",
     "text": [
      "33.3 µs ± 3.58 µs per loop (mean ± std. dev. of 7 runs, 10,000 loops each)\n"
     ]
    }
   ],
   "source": [
    "%%timeit\n",
    "fibonacci_rec(10)"
   ]
  },
  {
   "cell_type": "markdown",
   "id": "d09066e6",
   "metadata": {},
   "source": [
    "### Programa una función que aproxime al número $\\pi$ hasta cierta precisión `eps` utilizando el bucle `while` y la siguiente expresión.\n",
    "\n",
    "$$\\pi = \\sum_{k=0}^{\\infty}\\frac{2(-1)^k3^{\\frac{1}{2}-k}}{2k+1}$$\n",
    "\n",
    "$$\\frac{\\pi}{4}=\\sum_{n=0}^{\\infty}\\frac{(-1)^n}{2n+1}$$"
   ]
  },
  {
   "cell_type": "code",
   "execution_count": 159,
   "id": "239f42fc",
   "metadata": {},
   "outputs": [
    {
     "name": "stdout",
     "output_type": "stream",
     "text": [
      "3.1415071450772496\n"
     ]
    }
   ],
   "source": [
    "pi += ((2 * ((-1) ** k)) * (3 ** ((1 / 2) - k))) / ((2 * k) + 1)\n",
    "print(pi)"
   ]
  },
  {
   "cell_type": "code",
   "execution_count": 161,
   "id": "032581ec",
   "metadata": {},
   "outputs": [
    {
     "name": "stdout",
     "output_type": "stream",
     "text": [
      "3.14159051093808\n"
     ]
    }
   ],
   "source": [
    "pi = 0\n",
    "for k in range(10):\n",
    "    pi += 2 * ((-1) ** k) * (3 ** (1 / 2 - k)) / (2 * k + 1)\n",
    "\n",
    "print(pi)"
   ]
  },
  {
   "cell_type": "code",
   "execution_count": 164,
   "id": "bb6fac11",
   "metadata": {},
   "outputs": [],
   "source": [
    "def aproxima_pi(eps):\n",
    "    \"\"\"Función que aproxima PI.\"\"\"\n",
    "    pi = 0\n",
    "    k = 0\n",
    "    while (k <= 30):\n",
    "        pi += 2 * ((-1) ** k) * (3 ** (1 / 2 - k)) / (2 * k + 1)\n",
    "        print(pi)\n",
    "        k += 1\n",
    "        \n",
    "    return pi"
   ]
  },
  {
   "cell_type": "code",
   "execution_count": 165,
   "id": "ab685f52",
   "metadata": {},
   "outputs": [
    {
     "name": "stdout",
     "output_type": "stream",
     "text": [
      "3.4641016151377544\n",
      "3.0792014356780038\n",
      "3.156181471569954\n",
      "3.13785289159568\n",
      "3.1426047456630846\n",
      "3.141308785462883\n",
      "3.1416743126988376\n",
      "3.141568715941784\n",
      "3.141599773811506\n",
      "3.14159051093808\n",
      "3.1415933045030817\n",
      "3.1415924542876463\n",
      "3.14159271502038\n",
      "3.141592634547314\n",
      "3.141592659521714\n",
      "3.1415926517339976\n",
      "3.1415926541725754\n",
      "3.1415926534061653\n",
      "3.1415926536478262\n",
      "3.1415926535714034\n",
      "3.141592653595635\n",
      "3.1415926535879337\n",
      "3.141592653590387\n",
      "3.141592653589604\n",
      "3.1415926535898544\n",
      "3.141592653589774\n",
      "3.1415926535897998\n",
      "3.1415926535897913\n",
      "3.141592653589794\n",
      "3.141592653589793\n",
      "3.1415926535897936\n"
     ]
    },
    {
     "data": {
      "text/plain": [
       "3.1415926535897936"
      ]
     },
     "execution_count": 165,
     "metadata": {},
     "output_type": "execute_result"
    }
   ],
   "source": [
    "aproxima_pi(1)"
   ]
  },
  {
   "cell_type": "markdown",
   "id": "420ad51e",
   "metadata": {},
   "source": [
    "## Programa una función que dado un número lo multiplique por 2."
   ]
  },
  {
   "cell_type": "code",
   "execution_count": 166,
   "id": "1c23d6cb",
   "metadata": {},
   "outputs": [],
   "source": [
    "def por_dos(x):\n",
    "    \"\"\"Función que multiplica un número por dos.\"\"\"\n",
    "    return 2 * x"
   ]
  },
  {
   "cell_type": "code",
   "execution_count": 167,
   "id": "81bb751e",
   "metadata": {},
   "outputs": [
    {
     "data": {
      "text/plain": [
       "7.4"
      ]
     },
     "execution_count": 167,
     "metadata": {},
     "output_type": "execute_result"
    }
   ],
   "source": [
    "por_dos(3.7)"
   ]
  },
  {
   "cell_type": "markdown",
   "id": "72a71bb5",
   "metadata": {},
   "source": [
    "## Programa una función que dados dos números proporcione su suma y su producto."
   ]
  },
  {
   "cell_type": "code",
   "execution_count": 172,
   "id": "a36c0f3e",
   "metadata": {},
   "outputs": [
    {
     "data": {
      "text/plain": [
       "(12, 36)"
      ]
     },
     "execution_count": 172,
     "metadata": {},
     "output_type": "execute_result"
    }
   ],
   "source": [
    "def suma_producto(x, y):\n",
    "    \"\"\"Función que devuelve la suma y producto de dos números proporcionados.\"\"\"\n",
    "    return x + y, x * y\n",
    "\n",
    "suma_producto(6, 6)"
   ]
  },
  {
   "cell_type": "markdown",
   "id": "d16e4732",
   "metadata": {},
   "source": [
    "## Programa una función que calcule el área y perímetro de un rectángulo dado los dos lados"
   ]
  },
  {
   "cell_type": "code",
   "execution_count": 174,
   "id": "f121283f",
   "metadata": {},
   "outputs": [
    {
     "data": {
      "text/plain": [
       "[8, 12]"
      ]
     },
     "execution_count": 174,
     "metadata": {},
     "output_type": "execute_result"
    }
   ],
   "source": [
    "def operacion(lado1 = 1, lado2 = 1):\n",
    "    area = lado1 * lado2\n",
    "    perimetro = 2 * (lado1 + lado2)\n",
    "    return [area, perimetro]\n",
    "\n",
    "operacion(2, 4)"
   ]
  },
  {
   "cell_type": "markdown",
   "id": "dedb1eed",
   "metadata": {},
   "source": [
    "## Programa una función que calcula el área y perímetro de una circunferenica dado el radio. Como salida debe proporcionar un diccionario."
   ]
  },
  {
   "cell_type": "code",
   "execution_count": 175,
   "id": "70262d06",
   "metadata": {},
   "outputs": [
    {
     "data": {
      "text/plain": [
       "3.141592653589793"
      ]
     },
     "execution_count": 175,
     "metadata": {},
     "output_type": "execute_result"
    }
   ],
   "source": [
    "import math\n",
    "\n",
    "math.pi"
   ]
  },
  {
   "cell_type": "code",
   "execution_count": 202,
   "id": "0d87bbfa",
   "metadata": {},
   "outputs": [],
   "source": [
    "def g(radio):\n",
    "    \"\"\"Función que calcula el área y perímetro de un círculo en base a un radio dado.\"\"\"\n",
    "    area = math.pi * radio ** 2\n",
    "    perimetro = math.pi * radio * 2\n",
    "    return {\"area\": area, \"perimetro\": perimetro}"
   ]
  },
  {
   "cell_type": "code",
   "execution_count": 177,
   "id": "d9d01b98",
   "metadata": {},
   "outputs": [],
   "source": [
    "x = g(1)"
   ]
  },
  {
   "cell_type": "code",
   "execution_count": 188,
   "id": "6dbe22ad",
   "metadata": {},
   "outputs": [
    {
     "data": {
      "text/plain": [
       "{'area': 3.141592653589793, 'perimetro': 6.283185307179586}"
      ]
     },
     "execution_count": 188,
     "metadata": {},
     "output_type": "execute_result"
    }
   ],
   "source": [
    "x"
   ]
  },
  {
   "cell_type": "markdown",
   "id": "336f25e1",
   "metadata": {},
   "source": [
    "## Programa una función que dado un número proporcione su tabla de multiplicar."
   ]
  },
  {
   "cell_type": "code",
   "execution_count": 194,
   "id": "2678e6f8",
   "metadata": {},
   "outputs": [
    {
     "name": "stdout",
     "output_type": "stream",
     "text": [
      "2 x 1 = 2\n",
      "2 x 2 = 4\n",
      "2 x 3 = 6\n",
      "2 x 4 = 8\n",
      "2 x 5 = 10\n",
      "2 x 6 = 12\n",
      "2 x 7 = 14\n",
      "2 x 8 = 16\n",
      "2 x 9 = 18\n",
      "2 x 10 = 20\n",
      "2 x 11 = 22\n",
      "2 x 12 = 24\n"
     ]
    }
   ],
   "source": [
    "def tabla(x):\n",
    "    \"\"\"Función que muestra la tabla de multiplicar del número proporcionado.\"\"\"\n",
    "    for i in range(1, 13):\n",
    "        print(str(x) + \" x \" + str(i) + \" = \" + str(x * i))\n",
    "\n",
    "tabla(2)"
   ]
  },
  {
   "cell_type": "markdown",
   "id": "fc283a70",
   "metadata": {},
   "source": [
    "## Programa una función que transforme grados Celsius a grados Fahrenheit $$F=\\frac{9}{5}C+32$$"
   ]
  },
  {
   "cell_type": "code",
   "execution_count": 200,
   "id": "92c166b4",
   "metadata": {},
   "outputs": [],
   "source": [
    "def grados(C):\n",
    "    \"\"\"Función que calcula los grados Farenheit en base a grados Celsius.\"\"\"\n",
    "    return ((9 / 5) * C) + 32"
   ]
  },
  {
   "cell_type": "code",
   "execution_count": 201,
   "id": "c3c952cc",
   "metadata": {},
   "outputs": [
    {
     "data": {
      "text/plain": [
       "32.0"
      ]
     },
     "execution_count": 201,
     "metadata": {},
     "output_type": "execute_result"
    }
   ],
   "source": [
    "grados(0)"
   ]
  },
  {
   "cell_type": "markdown",
   "id": "d969f908",
   "metadata": {},
   "source": [
    "## Utilizando la función anterior crea un programa que proporcione una tabla de conversión de 0ºC a 100ºC de 10 en 10."
   ]
  },
  {
   "cell_type": "code",
   "execution_count": 203,
   "id": "8c044d84",
   "metadata": {},
   "outputs": [
    {
     "name": "stdout",
     "output_type": "stream",
     "text": [
      "32.0\n",
      "50.0\n",
      "68.0\n",
      "86.0\n",
      "104.0\n",
      "122.0\n",
      "140.0\n",
      "158.0\n",
      "176.0\n",
      "194.0\n",
      "212.0\n"
     ]
    }
   ],
   "source": [
    "for objeto in range(0, 101, 10):\n",
    "    print(grados(objeto))"
   ]
  },
  {
   "cell_type": "markdown",
   "id": "d7aed536",
   "metadata": {},
   "source": [
    "## Escribe un programa que reciba un número $n$ por parámetro e imprima los primeros $n$ números triangulares, junto con su índice. Los números triangulares se obtienen mediante la suma de los números naturales desde 1 hasta $n$.\n",
    "\n",
    "## Hazlo usando y sin usar la fórmula $\\sum_{i=1}^n i=n(n+1)/2$.\n",
    "¿hay diferencia en el tiempo de ejecución?"
   ]
  },
  {
   "cell_type": "code",
   "execution_count": 224,
   "id": "36fc7ab2",
   "metadata": {},
   "outputs": [
    {
     "name": "stdout",
     "output_type": "stream",
     "text": [
      "Índice 1, número triangular: 1\n",
      "Índice 2, número triangular: 3\n",
      "Índice 3, número triangular: 6\n",
      "Índice 4, número triangular: 10\n",
      "Índice 5, número triangular: 15\n",
      "Índice 6, número triangular: 21\n",
      "Índice 7, número triangular: 28\n",
      "Índice 8, número triangular: 36\n",
      "Índice 9, número triangular: 45\n",
      "Índice 10, número triangular: 55\n",
      "\n",
      "Con la fórmula:\n",
      "Índice 1, número triangular: 1\n",
      "Índice 2, número triangular: 3\n",
      "Índice 3, número triangular: 6\n",
      "Índice 4, número triangular: 10\n",
      "Índice 5, número triangular: 15\n",
      "Índice 6, número triangular: 21\n",
      "Índice 7, número triangular: 28\n",
      "Índice 8, número triangular: 36\n",
      "Índice 9, número triangular: 45\n",
      "Índice 10, número triangular: 55\n"
     ]
    }
   ],
   "source": [
    "def triangulares(n):\n",
    "    \"\"\"Función que imprime los primeros n números triangulares, junto con su índice, en base a un número dado.\"\"\"\n",
    "    \n",
    "    # Sin la fórmula:\n",
    "    suma = 0\n",
    "    for i in range(1, n + 1):\n",
    "        suma += i\n",
    "        print(\"Índice \" + str(i) + \", número triangular: \" + str(suma))\n",
    "    \n",
    "    # Con la fórmula:\n",
    "    print(\"\\nCon la fórmula:\")\n",
    "    for x in range(1, n + 1):\n",
    "        print(\"Índice \" + str(x) + \", número triangular: \" + str((x * (x + 1)) // 2))\n",
    "\n",
    "triangulares(4)"
   ]
  },
  {
   "cell_type": "markdown",
   "id": "d21866f1",
   "metadata": {},
   "source": [
    "## Escribe un programa que imprima todas las fichas de dominó (una por línea) sin repetir."
   ]
  },
  {
   "cell_type": "code",
   "execution_count": 218,
   "id": "ece4a4aa",
   "metadata": {},
   "outputs": [
    {
     "name": "stdout",
     "output_type": "stream",
     "text": [
      "[0, 0]\n",
      "[0, 1]\n",
      "[0, 2]\n",
      "[0, 3]\n",
      "[0, 4]\n",
      "[0, 5]\n",
      "[0, 6]\n",
      "[1, 1]\n",
      "[1, 2]\n",
      "[1, 3]\n",
      "[1, 4]\n",
      "[1, 5]\n",
      "[1, 6]\n",
      "[2, 2]\n",
      "[2, 3]\n",
      "[2, 4]\n",
      "[2, 5]\n",
      "[2, 6]\n",
      "[3, 3]\n",
      "[3, 4]\n",
      "[3, 5]\n",
      "[3, 6]\n",
      "[4, 4]\n",
      "[4, 5]\n",
      "[4, 6]\n",
      "[5, 5]\n",
      "[5, 6]\n",
      "[6, 6]\n"
     ]
    }
   ],
   "source": [
    "def domino():\n",
    "    domino_array = []\n",
    "    for i in range(7):\n",
    "        for j in range(7):\n",
    "            if [i, j] not in domino_array and [j, i] not in domino_array:\n",
    "                domino_array.append([i, j])\n",
    "    for i in domino_array:\n",
    "        print(i)\n",
    "\n",
    "domino()"
   ]
  },
  {
   "cell_type": "markdown",
   "id": "e4d95645",
   "metadata": {},
   "source": [
    "## Escribe una función que dado un número indique si es par o no y si es primo o no."
   ]
  },
  {
   "cell_type": "code",
   "execution_count": 262,
   "id": "e24b1060",
   "metadata": {},
   "outputs": [
    {
     "name": "stdout",
     "output_type": "stream",
     "text": [
      "1 es impar y no es primo.\n",
      "2 es par y es primo.\n",
      "3 es impar y es primo.\n",
      "4 es par y no es primo.\n",
      "5 es impar y es primo.\n",
      "6 es par y no es primo.\n",
      "7 es impar y es primo.\n",
      "8 es par y no es primo.\n",
      "9 es impar y no es primo.\n",
      "10 es par y no es primo.\n",
      "11 es impar y es primo.\n",
      "12 es par y no es primo.\n",
      "13 es impar y es primo.\n",
      "14 es par y no es primo.\n",
      "15 es impar y no es primo.\n",
      "16 es par y no es primo.\n",
      "17 es impar y es primo.\n",
      "18 es par y no es primo.\n",
      "19 es impar y es primo.\n",
      "20 es par y no es primo.\n",
      "21 es impar y no es primo.\n",
      "22 es par y no es primo.\n",
      "23 es impar y es primo.\n",
      "24 es par y no es primo.\n",
      "25 es impar y no es primo.\n"
     ]
    }
   ],
   "source": [
    "def par_primo(x):\n",
    "    \"\"\"Función que comprueba si un número es par y primo.\"\"\"\n",
    "    if (x % 2) == 0:\n",
    "        if x == 2:\n",
    "            print(str(x) + \" es par y es primo.\")\n",
    "        else:\n",
    "            print(str(x) + \" es par y no es primo.\")\n",
    "    else:\n",
    "        primo = True\n",
    "        i = 2\n",
    "        while (i < x) and (primo == True):\n",
    "            if (x % i) == 0 or (x == 1):\n",
    "                primo = False\n",
    "            i += 1\n",
    "        if primo and x != 1:\n",
    "            print(str(x) + \" es impar y es primo.\")\n",
    "        else:\n",
    "            print(str(x) + \" es impar y no es primo.\")\n",
    "\n",
    "for i in range(1, 26):\n",
    "    par_primo(i)"
   ]
  },
  {
   "cell_type": "markdown",
   "id": "ef4c6b71",
   "metadata": {},
   "source": [
    "## Programa una implementación de la función $abs$."
   ]
  },
  {
   "cell_type": "code",
   "execution_count": 239,
   "id": "202ee7ba",
   "metadata": {},
   "outputs": [],
   "source": [
    "def absoluto(n):\n",
    "    if n > 0:\n",
    "        return n\n",
    "    else:\n",
    "        return (-1) * n"
   ]
  },
  {
   "cell_type": "markdown",
   "id": "5c75fa01",
   "metadata": {},
   "source": [
    "## Programa una implementción de la función $signo$."
   ]
  },
  {
   "cell_type": "code",
   "execution_count": 264,
   "id": "0751e9f8",
   "metadata": {},
   "outputs": [
    {
     "name": "stdout",
     "output_type": "stream",
     "text": [
      "El signo de -5 es = -1\n",
      "El signo de 0 es = 0\n",
      "El signo de 5 es = 1\n"
     ]
    }
   ],
   "source": [
    "def signo(n):\n",
    "    if (n < 0):\n",
    "        print(\"El signo de \" + str(n) + \" es = -1\")\n",
    "    elif (n > 0):\n",
    "        print(\"El signo de \" + str(n) + \" es = 1\")\n",
    "    else:\n",
    "        print(\"El signo de \" + str(n) + \" es = 0\")\n",
    "\n",
    "signo(-5)\n",
    "signo(0)\n",
    "signo(5)"
   ]
  },
  {
   "cell_type": "markdown",
   "id": "c15e53ef",
   "metadata": {},
   "source": [
    "## Escribe funciónes que permitan encontrar las soluciones de un polinomio de grado dos dados sus coeficientes $a$, $b$ y $c$.\n",
    "\n",
    "## Que muestre el mínimo o máximo del polinomio."
   ]
  },
  {
   "cell_type": "code",
   "execution_count": 291,
   "id": "17be99a8",
   "metadata": {},
   "outputs": [
    {
     "name": "stdout",
     "output_type": "stream",
     "text": [
      "La solución del polinomio tiene una raíz imaginaria x = -2 + i*sqrt(-39932) / -64\n"
     ]
    }
   ],
   "source": [
    "def sol_polinomio(a, b, c):\n",
    "    raiz = (b ** 2) - (4 * a * c)\n",
    "    if raiz >= 0:\n",
    "        print(\"El máximo del polinomio es x = \" + str(max((-b + (raiz ** (0.5))) / (2 * a), (-b - (raiz ** (0.5))) / (2 * a))))\n",
    "        print(\"El mínimo del polinomio es x = \" + str(min((-b + (raiz ** (0.5))) / (2 * a), (-b - (raiz ** (0.5))) / (2 * a))))\n",
    "    else:\n",
    "        print(\"La solución del polinomio tiene una raíz imaginaria x = \" + str(-b) + \" + i*sqrt(\" + str(raiz) + \") / \" + str(2 * a))\n",
    "\n",
    "sol_polinomio(-32, 2, -312)"
   ]
  },
  {
   "cell_type": "markdown",
   "id": "45bd8725",
   "metadata": {},
   "source": [
    "## Escribe una función que dado un número entero devuelva su descomposición en factores primos."
   ]
  },
  {
   "cell_type": "code",
   "execution_count": 288,
   "id": "77853595",
   "metadata": {},
   "outputs": [
    {
     "name": "stdout",
     "output_type": "stream",
     "text": [
      "Descomposición en factores primos de 20: [2, 2, 5]\n"
     ]
    }
   ],
   "source": [
    "def factores(x):\n",
    "    factores = []\n",
    "    original = x\n",
    "    div = 2\n",
    "    while x > 1:\n",
    "        while x % div == 0:\n",
    "            factores.append(div)\n",
    "            x //= div\n",
    "        div += 1\n",
    "\n",
    "    print(\"Descomposición en factores primos de \" + str(original) + \": \" + str(factores))\n",
    "\n",
    "factores(20)"
   ]
  },
  {
   "cell_type": "markdown",
   "id": "760932c8",
   "metadata": {},
   "source": [
    "## Programa una función que solicite por pantalla un número y permita al usuario introducirlo para luego imprimirlo por pantalla.\n",
    "\n",
    "## Usa la función `input` de python."
   ]
  },
  {
   "cell_type": "code",
   "execution_count": 285,
   "id": "00d2def5",
   "metadata": {},
   "outputs": [
    {
     "name": "stdin",
     "output_type": "stream",
     "text": [
      " try\n"
     ]
    }
   ],
   "source": [
    "x = input()"
   ]
  },
  {
   "cell_type": "code",
   "execution_count": 286,
   "id": "16c88ab9",
   "metadata": {},
   "outputs": [
    {
     "name": "stdout",
     "output_type": "stream",
     "text": [
      "Introduzca un valor:\n"
     ]
    },
    {
     "name": "stdin",
     "output_type": "stream",
     "text": [
      " 3\n"
     ]
    },
    {
     "name": "stdout",
     "output_type": "stream",
     "text": [
      "El numero introducido es 3\n"
     ]
    }
   ],
   "source": [
    "print(\"Introduzca un valor: \")\n",
    "x = int(input())\n",
    "print(\"El numero introducido es\", x)"
   ]
  },
  {
   "cell_type": "code",
   "execution_count": 287,
   "id": "1d131227",
   "metadata": {},
   "outputs": [
    {
     "data": {
      "text/plain": [
       "4"
      ]
     },
     "execution_count": 287,
     "metadata": {},
     "output_type": "execute_result"
    }
   ],
   "source": [
    "1 + x"
   ]
  },
  {
   "cell_type": "markdown",
   "id": "bca767ff",
   "metadata": {},
   "source": [
    "## Escribe una función que tenga una contraseña inventada, que le pregunte la contraseña inventada y no le permita continuar al usuario hasta que la haya ingresado correctamente."
   ]
  },
  {
   "cell_type": "code",
   "execution_count": 294,
   "id": "f9645f0f-446c-40b3-8ca3-8cb5ee921c2f",
   "metadata": {},
   "outputs": [
    {
     "name": "stdout",
     "output_type": "stream",
     "text": [
      "Introduzca la contraseña: \n"
     ]
    },
    {
     "name": "stdin",
     "output_type": "stream",
     "text": [
      " re\n"
     ]
    },
    {
     "name": "stdout",
     "output_type": "stream",
     "text": [
      "Introduzca la contraseña: \n"
     ]
    },
    {
     "name": "stdin",
     "output_type": "stream",
     "text": [
      " tr\n"
     ]
    },
    {
     "name": "stdout",
     "output_type": "stream",
     "text": [
      "Introduzca la contraseña: \n"
     ]
    },
    {
     "name": "stdin",
     "output_type": "stream",
     "text": [
      " d\n"
     ]
    },
    {
     "name": "stdout",
     "output_type": "stream",
     "text": [
      "Introduzca la contraseña: \n"
     ]
    },
    {
     "name": "stdin",
     "output_type": "stream",
     "text": [
      " s\n"
     ]
    },
    {
     "name": "stdout",
     "output_type": "stream",
     "text": [
      "Introduzca la contraseña: \n"
     ]
    },
    {
     "name": "stdin",
     "output_type": "stream",
     "text": [
      " f\n"
     ]
    },
    {
     "name": "stdout",
     "output_type": "stream",
     "text": [
      "Introduzca la contraseña: \n"
     ]
    },
    {
     "name": "stdin",
     "output_type": "stream",
     "text": [
      " gr\n"
     ]
    },
    {
     "name": "stdout",
     "output_type": "stream",
     "text": [
      "Introduzca la contraseña: \n"
     ]
    },
    {
     "name": "stdin",
     "output_type": "stream",
     "text": [
      " \n"
     ]
    },
    {
     "name": "stdout",
     "output_type": "stream",
     "text": [
      "Introduzca la contraseña: \n"
     ]
    },
    {
     "name": "stdin",
     "output_type": "stream",
     "text": [
      " Abderitano\n"
     ]
    },
    {
     "name": "stdout",
     "output_type": "stream",
     "text": [
      "Introduzca la contraseña: \n"
     ]
    },
    {
     "name": "stdin",
     "output_type": "stream",
     "text": [
      " Jiribilla\n"
     ]
    },
    {
     "name": "stdout",
     "output_type": "stream",
     "text": [
      "Introduzca la contraseña: \n"
     ]
    },
    {
     "name": "stdin",
     "output_type": "stream",
     "text": [
      " Patatinas\n"
     ]
    },
    {
     "name": "stdout",
     "output_type": "stream",
     "text": [
      "Introduzca la contraseña: \n"
     ]
    },
    {
     "name": "stdin",
     "output_type": "stream",
     "text": [
      " Esmirriado\n"
     ]
    },
    {
     "name": "stdout",
     "output_type": "stream",
     "text": [
      "¡Enhorabuena!\n"
     ]
    }
   ],
   "source": [
    "from random import choice\n",
    "\n",
    "def wordle():\n",
    "    croissant = False\n",
    "    test = choice([\"Abderitano\", \"Jiribilla\", \"Patatinas\", \"Esmirriado\", \"Pedáneo\"])\n",
    "    print(\"Adivina la contraseña: \")\n",
    "    croissant = input()\n",
    "    while test != croissant:\n",
    "        print(\"Incorrecto, prueba de nuevo: \")\n",
    "        croissant = input()\n",
    "    print(\"¡Enhorabuena!\")\n",
    "\n",
    "wordle()"
   ]
  },
  {
   "cell_type": "markdown",
   "id": "26ac9952",
   "metadata": {},
   "source": [
    "## Modifica la función anterior para que solo permita un número determinado de intentos y le indique al usuario cuántos intentos le quedan."
   ]
  },
  {
   "cell_type": "code",
   "execution_count": 298,
   "id": "e93e9b07",
   "metadata": {},
   "outputs": [
    {
     "name": "stdout",
     "output_type": "stream",
     "text": [
      "Adivina la contraseña, te quedan 5: \n"
     ]
    },
    {
     "name": "stdin",
     "output_type": "stream",
     "text": [
      " 4\n"
     ]
    },
    {
     "name": "stdout",
     "output_type": "stream",
     "text": [
      "Incorrecto, te quedan 4 intentos, prueba de nuevo: \n"
     ]
    },
    {
     "name": "stdin",
     "output_type": "stream",
     "text": [
      " 3\n"
     ]
    },
    {
     "name": "stdout",
     "output_type": "stream",
     "text": [
      "Incorrecto, te quedan 3 intentos, prueba de nuevo: \n"
     ]
    },
    {
     "name": "stdin",
     "output_type": "stream",
     "text": [
      " 6\n"
     ]
    },
    {
     "name": "stdout",
     "output_type": "stream",
     "text": [
      "Incorrecto, te quedan 2 intentos, prueba de nuevo: \n"
     ]
    },
    {
     "name": "stdin",
     "output_type": "stream",
     "text": [
      " 7\n"
     ]
    },
    {
     "name": "stdout",
     "output_type": "stream",
     "text": [
      "Incorrecto, te quedan 1 intentos, prueba de nuevo: \n"
     ]
    },
    {
     "name": "stdin",
     "output_type": "stream",
     "text": [
      " 3\n"
     ]
    },
    {
     "name": "stdout",
     "output_type": "stream",
     "text": [
      "Número de intentos agotados.\n"
     ]
    }
   ],
   "source": [
    "from random import choice\n",
    "\n",
    "def wordle():\n",
    "    croissant = False\n",
    "    intentos = 5\n",
    "    test = choice([\"Abderitano\", \"Jiribilla\", \"Patatinas\", \"Esmirriado\", \"Pedáneo\"])\n",
    "    print(\"Adivina la contraseña, te quedan \" + str(intentos) + \": \")\n",
    "    croissant = input()\n",
    "    intentos -= 1\n",
    "    while test != croissant and intentos > 0:\n",
    "        print(\"Incorrecto, te quedan \" + str(intentos) + \" intentos, prueba de nuevo: \")\n",
    "        croissant = input()\n",
    "        intentos -= 1\n",
    "    if intentos > 0:\n",
    "        print(\"¡Enhorabuena!\")\n",
    "    else:\n",
    "        print(\"Número de intentos agotados.\")\n",
    "\n",
    "wordle()"
   ]
  },
  {
   "cell_type": "markdown",
   "id": "c36d6550",
   "metadata": {},
   "source": [
    "## Programa una función que genere un número aleatorio entero en un rango determinado. Y que le permita al usuario introducir números indicando si son mayores o menores hasta que acierte el número."
   ]
  },
  {
   "cell_type": "code",
   "execution_count": 299,
   "id": "8ff11ade",
   "metadata": {},
   "outputs": [
    {
     "name": "stdout",
     "output_type": "stream",
     "text": [
      "Introduce un numero: \n"
     ]
    },
    {
     "name": "stdin",
     "output_type": "stream",
     "text": [
      " 1\n"
     ]
    },
    {
     "name": "stdout",
     "output_type": "stream",
     "text": [
      "Es mayor que  1\n",
      "Introduce un numero: \n"
     ]
    },
    {
     "name": "stdin",
     "output_type": "stream",
     "text": [
      " 2\n"
     ]
    },
    {
     "name": "stdout",
     "output_type": "stream",
     "text": [
      "Es mayor que  2\n",
      "Introduce un numero: \n"
     ]
    },
    {
     "name": "stdin",
     "output_type": "stream",
     "text": [
      " 3\n"
     ]
    },
    {
     "name": "stdout",
     "output_type": "stream",
     "text": [
      "Es mayor que  3\n",
      "Introduce un numero: \n"
     ]
    },
    {
     "name": "stdin",
     "output_type": "stream",
     "text": [
      " 4\n"
     ]
    },
    {
     "name": "stdout",
     "output_type": "stream",
     "text": [
      "Has acertado.\n"
     ]
    }
   ],
   "source": [
    "from random import randint\n",
    "\n",
    "randint(0, 10)\n",
    "\n",
    "def acierto(n_min = 0, n_max = 10):\n",
    "    x = randint(n_min, n_max)\n",
    "    fallo = True\n",
    "    while fallo == True:\n",
    "        print(\"Introduce un numero: \")\n",
    "        numero = int(input())\n",
    "        if numero == x:\n",
    "            print(\"Has acertado.\")\n",
    "            fallo = False\n",
    "        elif numero < x:\n",
    "            print(\"Es mayor que \", numero)\n",
    "        else:\n",
    "            print(\"Es menor que \", numero)\n",
    "\n",
    "acierto()"
   ]
  },
  {
   "cell_type": "markdown",
   "id": "d00c2bda",
   "metadata": {},
   "source": [
    "## Programa una función que implemente el algoritmo de Euclides para calcular el máximo común divisor de dos números $n$ y $m$. Dado por los siguientes pasos:\n",
    "1. Se calcula el resto ($r$) de $m/n$.\n",
    "2. Si $r$ es cero entonces $n$ es el MCD de los valores iniciales.\n",
    "3. Si no, se asigna $m \\leftarrow n$, $n \\leftarrow r$ y se vuelve al primer paso.\n"
   ]
  },
  {
   "cell_type": "code",
   "execution_count": 308,
   "id": "44658142",
   "metadata": {},
   "outputs": [
    {
     "name": "stdout",
     "output_type": "stream",
     "text": [
      "1 es el MCD de los valores iniciales.\n",
      "5 es el MCD de los valores iniciales.\n",
      "7 es el MCD de los valores iniciales.\n"
     ]
    }
   ],
   "source": [
    "def euclides(m: int, n: int):\n",
    "    while (m % n) != 0:\n",
    "        m, n = n, m % n\n",
    "    print(str(n) + \" es el MCD de los valores iniciales.\")\n",
    "\n",
    "euclides(8, 9)\n",
    "euclides(35, 15)\n",
    "euclides(14, 7)"
   ]
  },
  {
   "cell_type": "code",
   "execution_count": null,
   "id": "40f5ce57-ccde-49f9-8f62-5910efba1f92",
   "metadata": {},
   "outputs": [],
   "source": []
  }
 ],
 "metadata": {
  "kernelspec": {
   "display_name": "Python 3 (ipykernel)",
   "language": "python",
   "name": "python3"
  },
  "language_info": {
   "codemirror_mode": {
    "name": "ipython",
    "version": 3
   },
   "file_extension": ".py",
   "mimetype": "text/x-python",
   "name": "python",
   "nbconvert_exporter": "python",
   "pygments_lexer": "ipython3",
   "version": "3.10.11"
  }
 },
 "nbformat": 4,
 "nbformat_minor": 5
}
